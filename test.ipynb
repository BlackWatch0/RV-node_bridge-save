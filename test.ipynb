{
 "cells": [
  {
   "cell_type": "code",
   "execution_count": 1,
   "metadata": {},
   "outputs": [],
   "source": [
    "import re\n",
    "import yaml"
   ]
  },
  {
   "cell_type": "code",
   "execution_count": 3,
   "metadata": {},
   "outputs": [],
   "source": [
    "with open('src/judge.yml', 'r', encoding=\"utf-8\") as file:\n",
    "    file_data = file.read()\n",
    "    data = yaml.safe_load(file_data)"
   ]
  },
  {
   "cell_type": "code",
   "execution_count": 13,
   "metadata": {},
   "outputs": [
    {
     "data": {
      "text/plain": [
       "'uint8_t game_type : 4;\\nuint8_t game_progress : 4; \\nuint16_t stage_remain_time;\\nuint64_t SyncTimeStamp;'"
      ]
     },
     "execution_count": 13,
     "metadata": {},
     "output_type": "execute_result"
    }
   ],
   "source": [
    "struct = data['protocols'][0]['struct']\n",
    "struct"
   ]
  },
  {
   "cell_type": "code",
   "execution_count": 35,
   "metadata": {},
   "outputs": [],
   "source": [
    "typeInfoTable = {\n",
    "    \"uint8_t\":{\"ros\":\"\", \"size\":1},\n",
    "    \"uint16_t\":{\"ros\":\"\", \"size\":2},\n",
    "    \"uint32_t\":{\"ros\":\"\", \"size\":4},\n",
    "    \"uint64_t\":{\"ros\":\"\", \"size\":8},\n",
    "    \"int\":{\"ros\":\"\", \"size\":2},\n",
    "    \"int8_t\":{\"ros\":\"\", \"size\":1},\n",
    "    \"int16_t\":{\"ros\":\"\", \"size\":2},\n",
    "    \"int32_t\":{\"ros\":\"\", \"size\":4},\n",
    "    \"int64_t\":{\"ros\":\"\", \"size\":8},\n",
    "    \"float\":{\"ros\":\"\", \"size\":4},\n",
    "    \"char\":{\"ros\":\"\", \"size\":1},\n",
    "}"
   ]
  },
  {
   "cell_type": "code",
   "execution_count": 68,
   "metadata": {},
   "outputs": [
    {
     "data": {
      "text/plain": [
       "'uint8_t game_type : 4;\\n            uint8_t game_progress : 3;\\n            uint16_t stage_remain_time;\\n            uint64_t SyncTimeStamp[3];\\n'"
      ]
     },
     "execution_count": 68,
     "metadata": {},
     "output_type": "execute_result"
    }
   ],
   "source": [
    "struct = '''uint8_t game_type : 4;\n",
    "            uint8_t game_progress : 3;\n",
    "            uint16_t stage_remain_time;\n",
    "            uint64_t SyncTimeStamp[3];\n",
    "'''\n",
    "struct"
   ]
  },
  {
   "cell_type": "code",
   "execution_count": 69,
   "metadata": {},
   "outputs": [
    {
     "data": {
      "text/plain": [
       "[{'type': 'uint8_t', 'key': 'game_type', 'arraysize': '', 'bitsize': '4'},\n",
       " {'type': 'uint8_t', 'key': 'game_progress', 'arraysize': '', 'bitsize': '3'},\n",
       " {'type': 'uint16_t',\n",
       "  'key': 'stage_remain_time',\n",
       "  'arraysize': '',\n",
       "  'bitsize': ''},\n",
       " {'type': 'uint64_t', 'key': 'SyncTimeStamp', 'arraysize': '3', 'bitsize': ''}]"
      ]
     },
     "execution_count": 69,
     "metadata": {},
     "output_type": "execute_result"
    }
   ],
   "source": [
    "r = re.compile('\\n*?(?P<type>\\S*?)\\s*?(?P<key>\\S*?)\\[?(?P<arraysize>\\d*?)\\]?\\s*?:?\\s*?(?P<bitsize>\\d*?);')\n",
    "structure = [m.groupdict() for m in r.finditer(struct)]\n",
    "structure"
   ]
  },
  {
   "cell_type": "code",
   "execution_count": 70,
   "metadata": {},
   "outputs": [
    {
     "data": {
      "text/plain": [
       "28"
      ]
     },
     "execution_count": 70,
     "metadata": {},
     "output_type": "execute_result"
    }
   ],
   "source": [
    "size = 0\n",
    "for item in structure:\n",
    "    item['typeinfo'] = typeInfo[item['type']]\n",
    "    size += item['typeinfo']['size']*int(item['arraysize'] or '1')\n",
    "size"
   ]
  },
  {
   "cell_type": "code",
   "execution_count": 83,
   "metadata": {},
   "outputs": [],
   "source": [
    "a={\"aa\":1}\n",
    "b={\"b\":2}\n",
    "a.update(b)"
   ]
  },
  {
   "cell_type": "code",
   "execution_count": 72,
   "metadata": {},
   "outputs": [],
   "source": [
    "a.get(\"c\",\"\")"
   ]
  },
  {
   "cell_type": "code",
   "execution_count": 76,
   "metadata": {},
   "outputs": [
    {
     "data": {
      "text/plain": [
       "'{ppp}'"
      ]
     },
     "execution_count": 76,
     "metadata": {},
     "output_type": "execute_result"
    }
   ],
   "source": [
    "\"{{{name}}}\".format(name=\"ppp\")"
   ]
  },
  {
   "cell_type": "code",
   "execution_count": 92,
   "metadata": {},
   "outputs": [
    {
     "ename": "AttributeError",
     "evalue": "'dict' object has no attribute 'aa'",
     "output_type": "error",
     "traceback": [
      "\u001b[1;31m----------------------------------------------------------------------\u001b[0m",
      "\u001b[1;31mAttributeError\u001b[0m                       Traceback (most recent call last)",
      "\u001b[1;32m<ipython-input-92-fb462637cce8>\u001b[0m in \u001b[0;36m<module>\u001b[1;34m\u001b[0m\n\u001b[1;32m----> 1\u001b[1;33m \u001b[1;34m\"{a.aa}\"\u001b[0m\u001b[1;33m.\u001b[0m\u001b[0mformat\u001b[0m\u001b[1;33m(\u001b[0m\u001b[0ma\u001b[0m\u001b[1;33m=\u001b[0m\u001b[0ma\u001b[0m\u001b[1;33m)\u001b[0m\u001b[1;33m\u001b[0m\u001b[1;33m\u001b[0m\u001b[0m\n\u001b[0m",
      "\u001b[1;31mAttributeError\u001b[0m: 'dict' object has no attribute 'aa'"
     ]
    }
   ],
   "source": [
    "\"{a.aa}\".format(a=a)"
   ]
  },
  {
   "cell_type": "code",
   "execution_count": 96,
   "metadata": {},
   "outputs": [
    {
     "ename": "AttributeError",
     "evalue": "'list' object has no attribute 'join'",
     "output_type": "error",
     "traceback": [
      "\u001b[1;31m----------------------------------------------------------------------\u001b[0m",
      "\u001b[1;31mAttributeError\u001b[0m                       Traceback (most recent call last)",
      "\u001b[1;32m<ipython-input-96-94d230d6ca83>\u001b[0m in \u001b[0;36m<module>\u001b[1;34m\u001b[0m\n\u001b[1;32m----> 1\u001b[1;33m \u001b[1;33m[\u001b[0m\u001b[1;34m\"aa\"\u001b[0m\u001b[1;33m,\u001b[0m\u001b[1;34m\"bb\"\u001b[0m\u001b[1;33m]\u001b[0m\u001b[1;33m.\u001b[0m\u001b[0mjoin\u001b[0m\u001b[1;33m(\u001b[0m\u001b[1;34m\",\"\u001b[0m\u001b[1;33m)\u001b[0m\u001b[1;33m\u001b[0m\u001b[1;33m\u001b[0m\u001b[0m\n\u001b[0m",
      "\u001b[1;31mAttributeError\u001b[0m: 'list' object has no attribute 'join'"
     ]
    }
   ],
   "source": [
    "[\"aa\",\"bb\"].join(\",\")"
   ]
  },
  {
   "cell_type": "code",
   "execution_count": 121,
   "metadata": {},
   "outputs": [
    {
     "data": {
      "text/plain": [
       "dict_values([1, 2])"
      ]
     },
     "execution_count": 121,
     "metadata": {},
     "output_type": "execute_result"
    }
   ],
   "source": [
    "a.values()"
   ]
  },
  {
   "cell_type": "code",
   "execution_count": 125,
   "metadata": {},
   "outputs": [
    {
     "data": {
      "text/plain": [
       "[(1, 4), (2, 5), (3, 6)]"
      ]
     },
     "execution_count": 125,
     "metadata": {},
     "output_type": "execute_result"
    }
   ],
   "source": [
    "a=[1,2,3]\n",
    "b=[4,5,6]\n",
    "[*zip(a,b)]"
   ]
  },
  {
   "cell_type": "code",
   "execution_count": null,
   "metadata": {},
   "outputs": [],
   "source": []
  }
 ],
 "metadata": {
  "kernelspec": {
   "display_name": "cv",
   "language": "python",
   "name": "cv"
  },
  "language_info": {
   "codemirror_mode": {
    "name": "ipython",
    "version": 3
   },
   "file_extension": ".py",
   "mimetype": "text/x-python",
   "name": "python",
   "nbconvert_exporter": "python",
   "pygments_lexer": "ipython3",
   "version": "3.7.7"
  }
 },
 "nbformat": 4,
 "nbformat_minor": 4
}
